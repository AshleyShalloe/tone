{
 "cells": [
  {
   "cell_type": "code",
   "execution_count": null,
   "metadata": {},
   "outputs": [],
   "source": [
    "from pathlib import Path\n",
    "import json\n",
    "import re\n",
    "\n",
    "trackDataDict = json.loads(Path(\"tracks.js.bak\").read_text().replace(\"var tracks = \", \"\"))"
   ]
  },
  {
   "cell_type": "code",
   "execution_count": null,
   "metadata": {},
   "outputs": [],
   "source": [
    "def fixOctave(inputNote, inputOctave):\n",
    "    if inputNote in [\"A\", \"A♯\", \"B\"]:\n",
    "        return inputOctave-1\n",
    "    else:\n",
    "        return inputOctave"
   ]
  },
  {
   "cell_type": "code",
   "execution_count": null,
   "metadata": {},
   "outputs": [],
   "source": [
    "fixed_dict = {}\n",
    "\n",
    "for track, data in trackDataDict.items():\n",
    "    tempNotes = data.get(\"notes\", [])\n",
    "    tempDoubleNotes = data.get(\"doublenotes\", [])\n",
    "    tempHalfNotes = data.get(\"halfnotes\", [])\n",
    "\n",
    "    tempNotes = [\n",
    "        [f\"{note}{fixOctave(note, octave)}\", duration]\n",
    "        for inputNote, duration in tempNotes\n",
    "        if (octave := int(inputNote[-1:])) and (note := inputNote[:-1])\n",
    "    ]\n",
    "    \n",
    "    tempDoubleNotes = [\n",
    "        [f\"{note}{fixOctave(note, octave)}\", duration]\n",
    "        for inputNote, duration in tempDoubleNotes\n",
    "        if (octave := int(inputNote[-1:])) and (note := inputNote[:-1])\n",
    "    ]\n",
    "    \n",
    "    tempHalfNotes = [\n",
    "        [f\"{note}{fixOctave(note, octave)}\", duration, pattern]\n",
    "        for inputNote, duration, pattern in tempHalfNotes\n",
    "        if (octave := int(inputNote[-1:])) and (note := inputNote[:-1])\n",
    "    ]\n",
    "    \n",
    "    if len(tempNotes):\n",
    "        data[\"notes\"] = tempNotes\n",
    "        \n",
    "    if len(tempDoubleNotes):\n",
    "        data[\"doublenotes\"] = tempDoubleNotes\n",
    "        \n",
    "    if len(tempHalfNotes):\n",
    "        data[\"halfnotes\"] = tempHalfNotes\n",
    "        \n",
    "    ## get the highest and lowest octaves\n",
    "    try:\n",
    "        maxOct = max(map(lambda x: int(x[0][-1:]), tempNotes + tempDoubleNotes + tempHalfNotes))\n",
    "        minOct = min(map(lambda x: int(x[0][-1:]), tempNotes + tempDoubleNotes + tempHalfNotes))\n",
    "        deltaOct = maxOct - minOct\n",
    "        ## fix octave metadata\n",
    "        data[\"octaves\"] = deltaOct + 1\n",
    "        data[\"startOctave\"] = minOct\n",
    "    except:\n",
    "        pass\n",
    "    \n",
    "    fixed_dict[track] = data"
   ]
  },
  {
   "cell_type": "code",
   "execution_count": null,
   "metadata": {},
   "outputs": [],
   "source": [
    "fixedJson = json.dumps(fixed_dict, indent=4).replace(r\"\\u266f\", \"♯\")\n",
    "\n",
    "fixedJson = re.sub(r'\\[\\n +', '[', fixedJson)\n",
    "fixedJson = re.sub(r'\\],\\n +', '],', fixedJson)\n",
    "fixedJson = re.sub(r'\",\\n +', '\",', fixedJson)\n",
    "fixedJson = re.sub(r'\\n +\\]', ']', fixedJson)\n",
    "fixedJson = re.sub(r'\"halfnotes\"', '\\n        \"halfnotes\"', fixedJson)\n",
    "fixedJson = fixedJson.replace(r'\\u266f', '♯')\n",
    "fixedJson = re.sub(r',\\n                \"', ',\"', fixedJson)\n",
    "fixedJson = re.sub(r',\"doublenotes\"', ',\\n        \"doublenotes\"', fixedJson)"
   ]
  },
  {
   "cell_type": "code",
   "execution_count": null,
   "metadata": {},
   "outputs": [],
   "source": [
    "with open(\"tracks.js\", \"w\") as outfile:\n",
    "    outfile.write(\"var tracks = \")\n",
    "    outfile.write(fixedJson)"
   ]
  }
 ],
 "metadata": {
  "kernelspec": {
   "display_name": "Python 3",
   "language": "python",
   "name": "python3"
  },
  "language_info": {
   "codemirror_mode": {
    "name": "ipython",
    "version": 3
   },
   "file_extension": ".py",
   "mimetype": "text/x-python",
   "name": "python",
   "nbconvert_exporter": "python",
   "pygments_lexer": "ipython3",
   "version": "3.12.3"
  }
 },
 "nbformat": 4,
 "nbformat_minor": 2
}
